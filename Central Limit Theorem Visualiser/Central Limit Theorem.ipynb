{
 "cells": [
  {
   "cell_type": "code",
   "execution_count": 3,
   "id": "initial_id",
   "metadata": {
    "collapsed": true
   },
   "outputs": [
    {
     "ename": "ModuleNotFoundError",
     "evalue": "No module named 'numpy'",
     "output_type": "error",
     "traceback": [
      "\u001b[31m---------------------------------------------------------------------------\u001b[39m",
      "\u001b[31mModuleNotFoundError\u001b[39m                       Traceback (most recent call last)",
      "\u001b[36mCell\u001b[39m\u001b[36m \u001b[39m\u001b[32mIn[3]\u001b[39m\u001b[32m, line 2\u001b[39m\n\u001b[32m      1\u001b[39m \u001b[38;5;66;03m# import necessary libraries\u001b[39;00m\n\u001b[32m----> \u001b[39m\u001b[32m2\u001b[39m \u001b[38;5;28;01mimport\u001b[39;00m\u001b[38;5;250m \u001b[39m\u001b[34;01mnumpy\u001b[39;00m\u001b[38;5;250m \u001b[39m\u001b[38;5;28;01mas\u001b[39;00m\u001b[38;5;250m \u001b[39m\u001b[34;01mnp\u001b[39;00m\n\u001b[32m      3\u001b[39m \u001b[38;5;28;01mimport\u001b[39;00m\u001b[38;5;250m \u001b[39m\u001b[34;01mplotly\u001b[39;00m\u001b[34;01m.\u001b[39;00m\u001b[34;01mgraph_objects\u001b[39;00m\u001b[38;5;250m \u001b[39m\u001b[38;5;28;01mas\u001b[39;00m\u001b[38;5;250m \u001b[39m\u001b[34;01mgo\u001b[39;00m\n\u001b[32m      4\u001b[39m \u001b[38;5;66;03m# plotly will help us generate an interactive graph\u001b[39;00m\n",
      "\u001b[31mModuleNotFoundError\u001b[39m: No module named 'numpy'"
     ]
    }
   ],
   "source": [
    "# import necessary libraries\n",
    "import numpy as np\n",
    "import plotly.graph_objects as go\n",
    "# plotly will help us generate an interactive graph"
   ]
  },
  {
   "cell_type": "code",
   "execution_count": null,
   "id": "c60427b2bcc72ab0",
   "metadata": {},
   "outputs": [],
   "source": [
    "# ----------- USER SETTINGS ------------\n",
    "faces = [1, 2, 3, 4, 5, 6]             # Die faces\n",
    "probabilities = [1/6]*6                # Change to uneven, e.g. [0.05,0.1,0.1,0.2,0.25,0.3]\n",
    "n_throws = 10                          # Number of throws per sample\n",
    "n_samples = 1000                       # Number of samples (frames in animation)\n",
    "frame_step = 10                        # How many samples per frame (for speed)\n",
    "# -------------------------------------"
   ]
  },
  {
   "cell_type": "markdown",
   "id": "ea0bc82563282111",
   "metadata": {},
   "source": [
    "We must now perform the following checks\n",
    "- The probabilities sum to 1\n",
    "- The count of probabilities = the number of faces"
   ]
  },
  {
   "cell_type": "markdown",
   "id": "980a47857429c56a",
   "metadata": {},
   "source": [
    "## Assert Statement\n",
    "\n",
    "The assert statement in Python is a debugging aid that tests a condition and triggers an error if the condition is not true. The basic syntax is -\n",
    "\n",
    "\n",
    "    assert condition, \"Optional error message\"\n",
    "\n",
    "- If the condition is True, nothing happens and execution continues\n",
    "- If the condition is False, Python raises an AssertionError\n",
    "\n",
    "#### When we use Assert statements\n",
    "\n",
    "- Debugging: Catch \"should never happen\" situations\n",
    "- Development: Document assumptions in your code\n",
    "- Testing: Quick sanity checks during development\n",
    "\n",
    "#### Important Notes\n",
    "Don't use for data validation in production code (users can disable assertions)\n",
    "Assertions can be globally disabled with the -O (optimize) flag:\n",
    "\n",
    "    python -O script.py  # All assert statements are ignored\n",
    "\n",
    "## Python Error Handling: assert vs raise vs try-except\n",
    "\n",
    "| Aspect | `assert` | `raise` | `try-except` |\n",
    "|--------|----------|---------|--------------|\n",
    "| **Purpose** | Debugging & sanity checks | Signal errors explicitly | Handle & recover from errors |\n",
    "| **Production Use** | Can be disabled with `-O` flag | Always active | Always active |\n",
    "| **Control Flow** | Stops execution if false | Stops execution unless caught | Continues execution after handling |\n",
    "| **Syntax** | `assert condition, \"message\"` | `raise ExceptionType(\"message\")` | `try: ... except: ...` |\n",
    "| **Best For** | \"Impossible\" conditions, internal consistency | Expected errors, input validation, business rules | Error recovery, resource cleanup, graceful degradation |\n",
    "| **Exception Type** | Always `AssertionError` | Any exception type | Catches any exception type |\n",
    "| **Performance** | Removed in optimized mode | Always executed | Always executed |\n",
    "| **Example Use Case** | Checking function preconditions | Validating user input | Handling file I/O errors |\n"
   ]
  },
  {
   "cell_type": "code",
   "execution_count": null,
   "id": "5ce709583baaab29",
   "metadata": {},
   "outputs": [],
   "source": [
    "assert np.isclose(sum(probabilities), 1), \"Probabilities must sum to 1.\"\n",
    "assert len(faces) == len(probabilities), \"Number of faces must equal number of probabilities.\""
   ]
  },
  {
   "cell_type": "markdown",
   "id": "332e1622b912c3dc",
   "metadata": {},
   "source": [
    "We can now calculate theoretical values to show on the graph too\n",
    "\n",
    "### Single Throw\n",
    "**Expectation:**\n",
    "$$E[X] = \\sum_{i} p_i \\cdot x_i$$\n",
    "\n",
    "**Variance:**\n",
    "$$\\text{Var}(X) = \\sum_{i} p_i \\cdot (x_i - E[X])^2$$\n",
    "\n",
    "### Sum of $n$ Independent Throws\n",
    "All these are independent events, hence why we simply multiply with n the Expectation and Variance\n",
    "\n",
    "**Expectation:**\n",
    "$$E[S_n] = n \\cdot E[X]$$\n",
    "\n",
    "**Variance:**\n",
    "$$\\text{Var}(S_n) = n \\cdot \\text{Var}(X)$$\n",
    "\n",
    "**Standard Deviation:**\n",
    "$$\\sigma_{S_n} = \\sqrt{\\text{Var}(S_n)} = \\sqrt{n} \\cdot \\sigma_X$$\n",
    "\n",
    "Where:\n",
    "- $X$ is the outcome of a single throw\n",
    "- $S_n$ is the sum of $n$ independent throws\n",
    "- $x_i$ are the face values\n",
    "- $p_i$ are their probabilities\n",
    "- $n$ is the number of throws"
   ]
  },
  {
   "cell_type": "code",
   "execution_count": null,
   "id": "e8072e9616f9d7fd",
   "metadata": {},
   "outputs": [],
   "source": [
    "# Theoretical values\n",
    "expectation_single = np.dot(faces, probabilities)\n",
    "variance_single = np.dot(probabilities, (np.array(faces) - expectation_single)**2)\n",
    "expectation_sum = n_throws * expectation_single\n",
    "variance_sum = n_throws * variance_single\n",
    "std_sum = np.sqrt(variance_sum)"
   ]
  },
  {
   "cell_type": "code",
   "execution_count": null,
   "id": "507e92241562ab45",
   "metadata": {},
   "outputs": [],
   "source": [
    "# Generate all sample sums\n",
    "sample_sums = [np.sum(np.random.choice(faces, size=n_throws, p=probabilities)) for i in range(n_samples)]"
   ]
  },
  {
   "cell_type": "markdown",
   "id": "b45127ee9d4e11d4",
   "metadata": {},
   "source": [
    "## Create frames for animation\n",
    "\n",
    "1. Setting up 'buckets' for our histogram:\n",
    "Think of this as creating the empty boxes we'll put our results into. If we're throwing dice with faces 1-6, and we throw 10 dice, the total can range from 10 to 60. This creates boxes for every possible total score"
   ]
  },
  {
   "cell_type": "markdown",
   "id": "7b5460f0e5783386",
   "metadata": {},
   "source": [
    "2. The Animation Loop\n",
    "We're going to create multiple pictures (frames) of our histogram. Each frame shows the histogram after adding more samples. frame_step = how many samples we add between each picture. Example: if frame_step=100, we take pictures after 100, 200, 300 samples, etc.\n",
    "3. Counting Results for each frame\n",
    "4."
   ]
  },
  {
   "cell_type": "code",
   "execution_count": null,
   "id": "d3c9d468683ea385",
   "metadata": {},
   "outputs": [],
   "source": [
    "frames = []\n",
    "bins = np.arange(n_throws * min(faces), n_throws * max(faces) + 2)"
   ]
  },
  {
   "cell_type": "code",
   "execution_count": null,
   "id": "fc11e5dc5cf9fd02",
   "metadata": {},
   "outputs": [],
   "source": [
    "for i in range(frame_step, n_samples + frame_step, frame_step):\n",
    "    hist, edges = np.histogram(sample_sums[:i], bins=bins, density=False)\n",
    "    centers = (edges[:-1] + edges[1:]) / 2\n",
    "    frames.append(go.Frame(\n",
    "        data=[go.Bar(x=centers, y=hist, marker_color='skyblue', opacity=0.7)],\n",
    "        name=f\"{i}\"\n",
    "    ))"
   ]
  }
 ],
 "metadata": {
  "kernelspec": {
   "display_name": "Python 3",
   "language": "python",
   "name": "python3"
  },
  "language_info": {
   "codemirror_mode": {
    "name": "ipython",
    "version": 3
   },
   "file_extension": ".py",
   "mimetype": "text/x-python",
   "name": "python",
   "nbconvert_exporter": "python",
   "pygments_lexer": "ipython3",
   "version": "3.14.0"
  }
 },
 "nbformat": 4,
 "nbformat_minor": 5
}
